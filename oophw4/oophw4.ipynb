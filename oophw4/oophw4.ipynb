{
 "cells": [
  {
   "cell_type": "markdown",
   "metadata": {},
   "source": [
    "# Упражнение 1. Прислуга\n",
    "\n",
    "Вам предлагается оптимизировать систему классов, описывающию состав прислуги уважаемого британского дома. Имеются классы `Butler` (дворецкий), `HouseKeeper` (домохозяйка), `Valet` (камердинер), `Maid` (горничная), `Footman` (лакей), `Cook` (кухарка). Использовая наследование и встроенную функцию `super()` уменьшите количество повторяющегося кода. Можно вводить новые классы. Обязательное требование - сохранить функциал исходных классов. Сильно не думайте: не нужно искать лучшее решение, даже если оно есть."
   ]
  },
  {
   "cell_type": "code",
   "execution_count": 77,
   "metadata": {},
   "outputs": [],
   "source": [
    "class Servant():\n",
    "    def __init__(self, name, age,salary, experience, pride,walking_speed, responsibilities):\n",
    "        self.name = name\n",
    "        self.age = age\n",
    "        self.salary = salary\n",
    "        self.experience = experience\n",
    "        self.pride = pride\n",
    "        self.walking_speed = walking_speed\n",
    "        self.responsibilities = list(responsibilities)\n",
    "        \n",
    "        self.speaker_prefix = '{} {}: '.format(self.position, self.name)\n",
    "        \n",
    "    def eat(self):\n",
    "        print(\"Eating\")\n",
    "        \n",
    "    def go(self, hurry=False):\n",
    "        print(\"Going at speed {}\".format(self.walking_speed))\n",
    "        \n",
    "    def rest(self):\n",
    "        print(\"Resting\")\n",
    "        \n",
    "    def get_list_responsibilities(self):\n",
    "        return self.responsibilities"
   ]
  },
  {
   "cell_type": "code",
   "execution_count": 78,
   "metadata": {},
   "outputs": [],
   "source": [
    "class Butler(Servant):\n",
    "    position = 'Butler'\n",
    "    \n",
    "    def __init__(\n",
    "            self,\n",
    "            name,\n",
    "            age,\n",
    "            salary=90,\n",
    "            experience=95,\n",
    "            pride=100,\n",
    "            walking_speed=4,\n",
    "            responsibilities=(),\n",
    "            subordinates=()\n",
    "    ):\n",
    "        super().__init__(name=name, age=age, salary=salary, experience=experience, pride=pride, \n",
    "                         walking_speed=walking_speed, responsibilities=responsibilities)\n",
    "        self.subordinates = list(subordinates)\n",
    "    def open_house_door(self, solemnity=50):\n",
    "        if solemnity > 80:\n",
    "            print('{}greeting1'.format(self.speaker_prefix))\n",
    "        elif solemnity > 50:\n",
    "            print('{}greeting2'.format(self.speaker_prefix))\n",
    "        elif solemnity > 20:\n",
    "            print('{}greeting3'.format(self.speaker_prefix))\n",
    "        else:\n",
    "            print('{}greeting4'.format(self.speaker_prefix))\n",
    "            \n",
    "    def call_employee_to_order(self, employee_name):\n",
    "        print(\n",
    "            \"{}{}, I don't remember permitting you to fool around!\".format(\n",
    "                self.speaker_prefix, employee_name\n",
    "            )\n",
    "        )\n",
    "        \n",
    "    def add_new_subordinate(self, subordinate):\n",
    "        self.subordinates.append(subordinate)\n",
    "        \n",
    "    def consult_on_business_matters(self):\n",
    "        print(\"{}How can I help you, sir?\".format(self.speaker_prefix))\n",
    "    \n",
    "    def organise_team_work(self):\n",
    "        pass\n",
    "        \n",
    "        \n",
    "class HouseKeeper(Servant):\n",
    "    position = 'House Keeper'\n",
    "    \n",
    "    def __init__(\n",
    "            self,\n",
    "            name,\n",
    "            age,\n",
    "            salary=60,\n",
    "            experience=95,\n",
    "            pride=85,\n",
    "            walking_speed=5,\n",
    "            responsibilities=(),\n",
    "            subordinates=()\n",
    "    ):\n",
    "        super().__init__(name=name, age=age, salary=salary, experience=experience, pride=pride, \n",
    "                         walking_speed=walking_speed, responsibilities=responsibilities)\n",
    "        self.subordinates = list(subordinates)\n",
    "        \n",
    "    def call_employee_to_order(self, employee_name):\n",
    "        print(\n",
    "            \"{}{}, I don't remember permitting you to fool around!\".format(\n",
    "                self.speaker_prefix, employee_name\n",
    "            )\n",
    "        )\n",
    "        \n",
    "    def add_new_subordinate(self, subordinate):\n",
    "        self.subordinates.append(subordinate)\n",
    "        \n",
    "    def consult_on_business_matters(self):\n",
    "        print(\"{}How can I help you, sir?\".format(self.speaker_prefix))\n",
    "    \n",
    "    def organise_team_work(self):\n",
    "        print(\"Organising team work\")\n",
    "    \n",
    "    def organise_cleaning(self):\n",
    "        print(\"Organising cleaning\")      \n",
    "    \n",
    "     \n",
    "class Valet:\n",
    "    position = 'Valet'\n",
    "    \n",
    "    def __init__(\n",
    "            self,\n",
    "            name,\n",
    "            age,\n",
    "            salary=65,\n",
    "            experience=90,\n",
    "            pride=85,\n",
    "            walking_speed=5,\n",
    "            responsibilities=(),\n",
    "    ):\n",
    "        super().__init__(name=name, age=age, salary=salary, experience=experience, pride=pride, \n",
    "                         walking_speed=walking_speed, responsibilities=responsibilities)\n",
    "    \n",
    "    def clean_masters_clothes(self):\n",
    "        print(\"Cleaning masters clothes\")\n",
    "        \n",
    "    def carry_masters_luggage(self):\n",
    "        print(\"Carrying masters luggage\")\n",
    "        \n",
    "    def help_get_dressed(self):\n",
    "        print(\"Helping getting dressed\")\n",
    "\n",
    "        \n",
    "class Maid:\n",
    "    position = 'Maid'\n",
    "    \n",
    "    def __init__(\n",
    "            self,\n",
    "            name,\n",
    "            age,\n",
    "            salary=30,\n",
    "            experience=45,\n",
    "            pride=30,\n",
    "            walking_speed=7,\n",
    "            responsibilities=(),\n",
    "    ):\n",
    "        super().__init__(name=name, age=age, salary=salary, experience=experience, pride=pride, \n",
    "                         walking_speed=walking_speed, responsibilities=responsibilities)\n",
    "    \n",
    "    def clean_mistress_clothes(self):\n",
    "        print(\"Cleaning masters clothes\")\n",
    "        \n",
    "    def help_get_dressed(self):\n",
    "        print(\"Helping getting dressed\")\n",
    "        \n",
    "    def do_housework(self):\n",
    "        print(\"Doing housework\")\n",
    "        \n",
    "    def help_take_bath(self):\n",
    "        print(\"Helping take a bath\")\n",
    "        \n",
    "    def gossip(self):\n",
    "        print(\"Gossiping\")\n",
    "        \n",
    "    \n",
    "class FootMan:\n",
    "    position = 'FootMan'\n",
    "    \n",
    "    def __init__(\n",
    "            self,\n",
    "            name,\n",
    "            age,\n",
    "            salary=40,\n",
    "            experience=40,\n",
    "            pride=50,\n",
    "            walking_speed=8,\n",
    "            responsibilities=(),\n",
    "    ):\n",
    "        super().__init__(name=name, age=age, salary=salary, experience=experience, pride=pride, \n",
    "                         walking_speed=walking_speed, responsibilities=responsibilities)\n",
    "    \n",
    "    def double_as_valet(self):\n",
    "        print(\"Substituting valet\")\n",
    "        \n",
    "    def do_housework(self):\n",
    "        print(\"Doing housework\")\n",
    "        \n",
    "    def serve_at_table(self):\n",
    "        print(\"Serving at the table\")\n",
    "        \n",
    "    def open_a_door(self):\n",
    "        print(\"Openning a door\")\n",
    "        \n",
    "        \n",
    "class Cook:\n",
    "    position = \"Cook\"\n",
    "    def __init__(\n",
    "            self,\n",
    "            name,\n",
    "            age,\n",
    "            salary=50,\n",
    "            experience=80,\n",
    "            pride=50,\n",
    "            walking_speed=5,\n",
    "            responsibilities=(),\n",
    "    ):\n",
    "        super().__init__(name=name, age=age, salary=salary, experience=experience, pride=pride, \n",
    "                         walking_speed=walking_speed, responsibilities=responsibilities)        \n",
    "        \n",
    "    def clean_kitchen(self):\n",
    "        print(\"Cleaning the kitchen\")\n",
    "        \n",
    "    def cook(self):\n",
    "        print(\"Cooking\")"
   ]
  },
  {
   "cell_type": "code",
   "execution_count": 79,
   "metadata": {},
   "outputs": [
    {
     "data": {
      "text/plain": [
       "'Butler Pol: '"
      ]
     },
     "execution_count": 79,
     "metadata": {},
     "output_type": "execute_result"
    }
   ],
   "source": [
    "B = Butler(name=\"Pol\", age=\"54\")\n",
    "B.speaker_prefix"
   ]
  },
  {
   "cell_type": "markdown",
   "metadata": {},
   "source": [
    "# Упражнение 2. Вызов методов родительских классов\n",
    "\n",
    "Из классах `A`, `B` и `C` есть методы `f()` и `g()`, причем в каждом классе метод `f()` вызывает метод `g()`. \n",
    "1. Допишите в методе `method()` класса `C` вызовы методов `f()`, относящихся к классам `A`, `B`, `C`. \n",
    "\n",
    "2. Какие при этом реализации `g()` использовались? Как следует модифицировать метод `f()`, чтобы при вызове реализации `f()` из некоторого класса `f()` вызывал `g()` из того же класса."
   ]
  },
  {
   "cell_type": "code",
   "execution_count": 57,
   "metadata": {},
   "outputs": [],
   "source": [
    "class A:\n",
    "    def f(self):\n",
    "        print(\"Method `f()` in class `A`\")\n",
    "        A.g(self)\n",
    "        \n",
    "    def g(self):\n",
    "        print(\"Method `g()` in class `A`\")\n",
    "        \n",
    "\n",
    "class B(A):\n",
    "    def f(self):\n",
    "        print(\"Method `f()` in class `B`\")\n",
    "        B.g(self)\n",
    "        \n",
    "    def g(self):\n",
    "        print(\"Method `g()` in class `B`\")\n",
    "        \n",
    "\n",
    "class C(B):\n",
    "    def f(self):\n",
    "        print(\"Method `f()` in class `C`\")\n",
    "        self.g()\n",
    "        \n",
    "    def g(self):\n",
    "        print(\"Method `g()` in class `C`\")\n",
    "        \n",
    "    def method(self, name):\n",
    "        if name == \"C\":\n",
    "            self.f()\n",
    "        if name == \"B\":\n",
    "            super().f()\n",
    "        if name == \"A\":\n",
    "            super(B, self).f()"
   ]
  },
  {
   "cell_type": "code",
   "execution_count": 58,
   "metadata": {},
   "outputs": [],
   "source": [
    "c = C()"
   ]
  },
  {
   "cell_type": "code",
   "execution_count": 59,
   "metadata": {},
   "outputs": [
    {
     "name": "stdout",
     "output_type": "stream",
     "text": [
      "Method `f()` in class `C`\n",
      "Method `g()` in class `C`\n"
     ]
    }
   ],
   "source": [
    "c.method(\"C\")"
   ]
  },
  {
   "cell_type": "code",
   "execution_count": 60,
   "metadata": {},
   "outputs": [
    {
     "name": "stdout",
     "output_type": "stream",
     "text": [
      "Method `f()` in class `B`\n",
      "Method `g()` in class `B`\n"
     ]
    }
   ],
   "source": [
    "c.method(\"B\")"
   ]
  },
  {
   "cell_type": "code",
   "execution_count": 61,
   "metadata": {},
   "outputs": [
    {
     "name": "stdout",
     "output_type": "stream",
     "text": [
      "Method `f()` in class `A`\n",
      "Method `g()` in class `A`\n"
     ]
    }
   ],
   "source": [
    "c.method(\"A\")"
   ]
  },
  {
   "cell_type": "code",
   "execution_count": null,
   "metadata": {},
   "outputs": [],
   "source": []
  }
 ],
 "metadata": {
  "kernelspec": {
   "display_name": "Python 3",
   "language": "python",
   "name": "python3"
  },
  "language_info": {
   "codemirror_mode": {
    "name": "ipython",
    "version": 3
   },
   "file_extension": ".py",
   "mimetype": "text/x-python",
   "name": "python",
   "nbconvert_exporter": "python",
   "pygments_lexer": "ipython3",
   "version": "3.7.3"
  }
 },
 "nbformat": 4,
 "nbformat_minor": 2
}
