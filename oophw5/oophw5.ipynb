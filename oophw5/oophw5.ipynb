{
 "cells": [
  {
   "cell_type": "markdown",
   "metadata": {},
   "source": [
    "# Упражнение 1. Ромб смерти\n",
    "\n",
    "Из классов `A`, `B`, `C`, `D`, `E`, `F` составлен ромб сметри. Во всех классах есть метод `f()` (нестатический и неклассовый). \n",
    "\n",
    "1. Вызовете в методе `F.method()` методы из всех шести классов. \n",
    "\n",
    "2. До каких методов можно в данной ситуации \"дотянуться\" с помощью встроенной функции `super()`?"
   ]
  },
  {
   "cell_type": "code",
   "execution_count": 38,
   "metadata": {},
   "outputs": [],
   "source": [
    "class A:\n",
    "    def f(self):\n",
    "        print(\"Method `f()` in class `A`\")\n",
    "\n",
    "\n",
    "class B(A):\n",
    "    def f(self):\n",
    "        print(\"Method `f()` in class `B`\")\n",
    "        \n",
    "\n",
    "class C(B):\n",
    "    def f(self):\n",
    "        print(\"Method `f()` in class `C`\")\n",
    "        \n",
    "        \n",
    "class D(A):\n",
    "    def f(self):\n",
    "        print(\"Method `f()` in class `D`\")\n",
    "        \n",
    "        \n",
    "class E(D):\n",
    "    def f(self):\n",
    "        print(\"Method `f()` in class `E`\")\n",
    "\n",
    "\n",
    "class F(C, E):\n",
    "    def f(self):\n",
    "        print(\"Method `f()` in class `F`\")\n",
    "        \n",
    "    def method(self):\n",
    "        self.f()\n",
    "        super().f()\n",
    "        super(C, self).f()\n",
    "        super(E, self).f()\n",
    "        \n",
    "        super(B, self).f()\n",
    "        super(D, self).f()\n",
    "        "
   ]
  },
  {
   "cell_type": "code",
   "execution_count": 39,
   "metadata": {},
   "outputs": [
    {
     "name": "stdout",
     "output_type": "stream",
     "text": [
      "Method `f()` in class `F`\n",
      "Method `f()` in class `C`\n",
      "Method `f()` in class `B`\n",
      "Method `f()` in class `D`\n",
      "Method `f()` in class `E`\n",
      "Method `f()` in class `A`\n"
     ]
    }
   ],
   "source": [
    "f = F()\n",
    "f.method()"
   ]
  },
  {
   "cell_type": "markdown",
   "metadata": {},
   "source": [
    "В итоге удалось \"дотянуться\" до всех методов, но то, что \"super(B, self).f()\", возвращает \"Method `f()` in class `E`\" достаточно неожиданно."
   ]
  },
  {
   "cell_type": "markdown",
   "metadata": {},
   "source": [
    "# Упражнение 2. Четырехугольники\n",
    "\n",
    "Напишите классы для геометрических фигур на плоскости: класс `Tetragon` (четырехугольник) и наследующие ему классы `Rectangle` (прямоугольник) и `Diamond` (ромб). У классов должны быть 2 публичных метода: `square()` - для вычисления площади и `get_vertices()` - возвращающий координаты вершин четырехугольника в виде списка кортежей.\n",
    "\n",
    "Четырехугольник `Tetragon` инициализируется координатами своих вершин. Рассматривайте только выпуклые четырехугольники.\n",
    "\n",
    "Предлагаю инициализировать прямоугольник `Rectangle` координатами концов диагонали и углом поворота второй диагонали относительно первой.\n",
    "\n",
    "Ромб `Diamond` можно инициализировать координатами концов одной из диагоналей + длиной второй диагонали.\n",
    "\n",
    "Сделайте защищенными (protected) непубличные методы, которые используются классом родителем и хотя бы одним из потомков. Например, метод для вычисления расстояния между двумя точками.\n",
    "\n",
    "Сделайте приватными методы родительского класса, которые не нужны потомкам. Сюда может подойти вычисление площади треугольника (если оно используется для расчета площади всего четырехугольника `Tetragon`)."
   ]
  },
  {
   "cell_type": "code",
   "execution_count": 8,
   "metadata": {},
   "outputs": [],
   "source": [
    "class Tetragon():\n",
    "    def __init__(self, Ax, Ay, Bx, By, Cx, Cy, Dx, Dy):\n",
    "        self.Ax=Ax\n",
    "        self.Ay=Ay\n",
    "        self.Bx=Bx\n",
    "        self.By=By\n",
    "        self.Dx=Dx\n",
    "        self.Dy=Dy\n",
    "        self.Cx=Cx\n",
    "        self.Cy=Cy\n",
    "        \n",
    "    def _distance(self, x1, y1, x2, y2):\n",
    "        return ((x1 - x2)**2 + (y1 - y2)**2)**0.5\n",
    "    \n",
    "    def square(self):\n",
    "        a = self._distance(self.Ax, self.Ay, self.Bx, self.By)\n",
    "        b = self._distance(self.Cx, self.Cy, self.Bx, self.By)\n",
    "        c = self._distance(self.Cx, self.Cy, self.Dx, self.Dy)\n",
    "        d = self._distance(self.Ax, self.Ay, self.Dx, self.Dy)\n",
    "        p = (a + b + c + d)/2\n",
    "        return ((p - a) * (p - b) * (p - c) * (p - d))**0.2\n",
    "    \n",
    "    def get_vertices(self):\n",
    "        return [(self.Ax, self.Ay), (self.Bx, self.By), (self.Cx, self.Cy), (self.Dx, self.Dy)]\n",
    "    \n",
    "    \n",
    "    \n",
    "#     def __perimetr_():\n",
    "#         a = _distance(Ax, Ay, Bx, By)\n",
    "#         b = _distance(Cx, Cy, Bx, By)\n",
    "#         c = _distance(Cx, Cy, Dx, Dy)\n",
    "#         d = _distance(Ax, Ay, Dx, Dy)\n",
    "#         return a + b + c + d"
   ]
  },
  {
   "cell_type": "code",
   "execution_count": 9,
   "metadata": {},
   "outputs": [],
   "source": [
    "import math\n",
    "\n",
    "class Rectangle(Tetragon):\n",
    "    def __init__(self, Ax, Ay, Cx, Cy, Bx, By, Dx, Dy, ang):\n",
    "        super().__init__(Ax, Ay, Bx, By, Cx, Cy, Dx, Dy)\n",
    "        self.ang=ang\n",
    "    \n",
    "    \n",
    "class Diamond(Tetragon):\n",
    "    def __init__(self, Ax, Ay, Cx, Cy, diag_len):\n",
    "        alph = math.atan((Cx - Ax)/(Cy - Ay))\n",
    "        Bx = (Ax + Cx)/2. - diag_len/2.* math.sin(alph)\n",
    "        By = (Ay + Cy)/2. + diag_len/2.* math.cos(alph)\n",
    "        Dx = (Ax + Cx)/2. + diag_len/2.* math.sin(alph)\n",
    "        Dy = (Ay + Cy)/2. - diag_len/2.* math.cos(alph)\n",
    "        super().__init__(Ax, Ay, Bx, By, Cx, Cy, Dx, Dy)\n",
    "        self.diag_len=diag_len \n",
    "                "
   ]
  },
  {
   "cell_type": "code",
   "execution_count": 10,
   "metadata": {},
   "outputs": [
    {
     "data": {
      "text/plain": [
       "1.0"
      ]
     },
     "execution_count": 10,
     "metadata": {},
     "output_type": "execute_result"
    }
   ],
   "source": [
    "diam = Diamond(1, 1, 2, 2, 2**0.5)\n",
    "diam.square()"
   ]
  },
  {
   "cell_type": "code",
   "execution_count": 11,
   "metadata": {},
   "outputs": [
    {
     "data": {
      "text/plain": [
       "1.0"
      ]
     },
     "execution_count": 11,
     "metadata": {},
     "output_type": "execute_result"
    }
   ],
   "source": [
    "rec = Rectangle(1, 1, 2, 2, 1, 2, 2, 1, 90)\n",
    "rec.square()"
   ]
  },
  {
   "cell_type": "code",
   "execution_count": 12,
   "metadata": {},
   "outputs": [
    {
     "data": {
      "text/plain": [
       "[(1, 1), (1, 2), (2, 2), (2, 1)]"
      ]
     },
     "execution_count": 12,
     "metadata": {},
     "output_type": "execute_result"
    }
   ],
   "source": [
    "rec.get_vertices()"
   ]
  },
  {
   "cell_type": "markdown",
   "metadata": {},
   "source": [
    "# Упражнение 3. "
   ]
  },
  {
   "cell_type": "markdown",
   "metadata": {},
   "source": []
  }
 ],
 "metadata": {
  "kernelspec": {
   "display_name": "Python 3",
   "language": "python",
   "name": "python3"
  },
  "language_info": {
   "codemirror_mode": {
    "name": "ipython",
    "version": 3
   },
   "file_extension": ".py",
   "mimetype": "text/x-python",
   "name": "python",
   "nbconvert_exporter": "python",
   "pygments_lexer": "ipython3",
   "version": "3.7.3"
  }
 },
 "nbformat": 4,
 "nbformat_minor": 2
}
